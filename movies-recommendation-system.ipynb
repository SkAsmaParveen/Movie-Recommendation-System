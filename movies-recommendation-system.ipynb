{
 "cells": [
  {
   "cell_type": "markdown",
   "id": "3ffeb4a5",
   "metadata": {
    "id": "_kdRiSzrCUX1",
    "papermill": {
     "duration": 0.01146,
     "end_time": "2024-10-27T14:13:53.462336",
     "exception": false,
     "start_time": "2024-10-27T14:13:53.450876",
     "status": "completed"
    },
    "tags": []
   },
   "source": [
    "**objective**"
   ]
  },
  {
   "cell_type": "markdown",
   "id": "242b2783",
   "metadata": {
    "id": "hRPcInxXCHCU",
    "papermill": {
     "duration": 0.011994,
     "end_time": "2024-10-27T14:13:53.485190",
     "exception": false,
     "start_time": "2024-10-27T14:13:53.473196",
     "status": "completed"
    },
    "tags": []
   },
   "source": [
    " **Movie Recommendation System**"
   ]
  },
  {
   "cell_type": "markdown",
   "id": "0dca8ff9",
   "metadata": {
    "id": "sDaXTalHDaT6",
    "papermill": {
     "duration": 0.010665,
     "end_time": "2024-10-27T14:13:53.506910",
     "exception": false,
     "start_time": "2024-10-27T14:13:53.496245",
     "status": "completed"
    },
    "tags": []
   },
   "source": [
    "Recommender System is a system that seeks to predict or filter preferences according to the user's choices.Recommender systems are utilized in a variety of areas including movies,music,books,research articles,search q`ueries,social tags,and products in general.Recommender systems produce a list of recommendations in any of two ways -"
   ]
  },
  {
   "cell_type": "markdown",
   "id": "d6361086",
   "metadata": {
    "id": "eCXVMZdZEYrw",
    "papermill": {
     "duration": 0.010565,
     "end_time": "2024-10-27T14:13:53.528076",
     "exception": false,
     "start_time": "2024-10-27T14:13:53.517511",
     "status": "completed"
    },
    "tags": []
   },
   "source": [
    "\n",
    "\n",
    "*   **Collaborative filtering:**Collaborative filtering approaches build a model from the user's past behavior as well as similar decisions made by other users.This model then used to predict items that users may have an interst in.\n",
    "*   **Content-based filtering:**Content-based filtering approaches uses a series of discrete characteristics of an item in order to recommend additional items with similar properties.This methods are totally based on a description of t6he item and a profile of user's preferences.It recommends items based on user's past preferences."
   ]
  },
  {
   "cell_type": "markdown",
   "id": "b14794e8",
   "metadata": {
    "id": "FPY3cT7fH4el",
    "papermill": {
     "duration": 0.01044,
     "end_time": "2024-10-27T14:13:53.549180",
     "exception": false,
     "start_time": "2024-10-27T14:13:53.538740",
     "status": "completed"
    },
    "tags": []
   },
   "source": [
    "**Import Library**"
   ]
  },
  {
   "cell_type": "code",
   "execution_count": 1,
   "id": "e9b3c906",
   "metadata": {
    "execution": {
     "iopub.execute_input": "2024-10-27T14:13:53.572294Z",
     "iopub.status.busy": "2024-10-27T14:13:53.571871Z",
     "iopub.status.idle": "2024-10-27T14:13:53.582115Z",
     "shell.execute_reply": "2024-10-27T14:13:53.580856Z"
    },
    "id": "OZBZ7-ZCKelK",
    "papermill": {
     "duration": 0.024626,
     "end_time": "2024-10-27T14:13:53.584549",
     "exception": false,
     "start_time": "2024-10-27T14:13:53.559923",
     "status": "completed"
    },
    "tags": []
   },
   "outputs": [],
   "source": [
    "import pandas as pd"
   ]
  },
  {
   "cell_type": "code",
   "execution_count": 2,
   "id": "afd6d366",
   "metadata": {
    "execution": {
     "iopub.execute_input": "2024-10-27T14:13:53.608431Z",
     "iopub.status.busy": "2024-10-27T14:13:53.607689Z",
     "iopub.status.idle": "2024-10-27T14:13:53.612573Z",
     "shell.execute_reply": "2024-10-27T14:13:53.611480Z"
    },
    "id": "v2bQMouGKzpY",
    "papermill": {
     "duration": 0.019587,
     "end_time": "2024-10-27T14:13:53.614909",
     "exception": false,
     "start_time": "2024-10-27T14:13:53.595322",
     "status": "completed"
    },
    "tags": []
   },
   "outputs": [],
   "source": [
    "import numpy as np"
   ]
  },
  {
   "cell_type": "markdown",
   "id": "7152d078",
   "metadata": {
    "id": "aQN3fAxrK-d7",
    "papermill": {
     "duration": 0.011261,
     "end_time": "2024-10-27T14:13:53.636899",
     "exception": false,
     "start_time": "2024-10-27T14:13:53.625638",
     "status": "completed"
    },
    "tags": []
   },
   "source": [
    "**Import Data**"
   ]
  },
  {
   "cell_type": "code",
   "execution_count": 3,
   "id": "c836e670",
   "metadata": {
    "execution": {
     "iopub.execute_input": "2024-10-27T14:13:53.661361Z",
     "iopub.status.busy": "2024-10-27T14:13:53.660995Z",
     "iopub.status.idle": "2024-10-27T14:13:53.665562Z",
     "shell.execute_reply": "2024-10-27T14:13:53.664580Z"
    },
    "papermill": {
     "duration": 0.018758,
     "end_time": "2024-10-27T14:13:53.667658",
     "exception": false,
     "start_time": "2024-10-27T14:13:53.648900",
     "status": "completed"
    },
    "tags": []
   },
   "outputs": [],
   "source": [
    "import os"
   ]
  },
  {
   "cell_type": "code",
   "execution_count": 4,
   "id": "8cbea459",
   "metadata": {
    "execution": {
     "iopub.execute_input": "2024-10-27T14:13:53.690740Z",
     "iopub.status.busy": "2024-10-27T14:13:53.690321Z",
     "iopub.status.idle": "2024-10-27T14:13:53.700458Z",
     "shell.execute_reply": "2024-10-27T14:13:53.699389Z"
    },
    "papermill": {
     "duration": 0.024502,
     "end_time": "2024-10-27T14:13:53.703006",
     "exception": false,
     "start_time": "2024-10-27T14:13:53.678504",
     "status": "completed"
    },
    "tags": []
   },
   "outputs": [
    {
     "data": {
      "text/plain": [
       "['Movies Recommendation.csv']"
      ]
     },
     "execution_count": 4,
     "metadata": {},
     "output_type": "execute_result"
    }
   ],
   "source": [
    "os.listdir('/kaggle/input/moviesrecommendation/')"
   ]
  },
  {
   "cell_type": "code",
   "execution_count": 5,
   "id": "a7e60a44",
   "metadata": {
    "execution": {
     "iopub.execute_input": "2024-10-27T14:13:53.726209Z",
     "iopub.status.busy": "2024-10-27T14:13:53.725832Z",
     "iopub.status.idle": "2024-10-27T14:13:54.425439Z",
     "shell.execute_reply": "2024-10-27T14:13:54.424297Z"
    },
    "id": "fE7cMvvPLNTu",
    "papermill": {
     "duration": 0.715143,
     "end_time": "2024-10-27T14:13:54.428952",
     "exception": false,
     "start_time": "2024-10-27T14:13:53.713809",
     "status": "completed"
    },
    "tags": []
   },
   "outputs": [],
   "source": [
    "df=pd.read_csv('/kaggle/input/moviesrecommendation/Movies Recommendation.csv')"
   ]
  },
  {
   "cell_type": "markdown",
   "id": "54d08255",
   "metadata": {
    "id": "9ZKwvopWLt6s",
    "papermill": {
     "duration": 0.013277,
     "end_time": "2024-10-27T14:13:54.458694",
     "exception": false,
     "start_time": "2024-10-27T14:13:54.445417",
     "status": "completed"
    },
    "tags": []
   },
   "source": [
    "**Describe Data**"
   ]
  },
  {
   "cell_type": "code",
   "execution_count": 6,
   "id": "2e87f8c8",
   "metadata": {
    "execution": {
     "iopub.execute_input": "2024-10-27T14:13:54.482601Z",
     "iopub.status.busy": "2024-10-27T14:13:54.481607Z",
     "iopub.status.idle": "2024-10-27T14:13:54.528322Z",
     "shell.execute_reply": "2024-10-27T14:13:54.527363Z"
    },
    "id": "-uRMEZ43L9tN",
    "outputId": "a4e4c065-141e-4e0f-987d-ed0c761c0e57",
    "papermill": {
     "duration": 0.061642,
     "end_time": "2024-10-27T14:13:54.531214",
     "exception": false,
     "start_time": "2024-10-27T14:13:54.469572",
     "status": "completed"
    },
    "tags": []
   },
   "outputs": [
    {
     "name": "stdout",
     "output_type": "stream",
     "text": [
      "<class 'pandas.core.frame.DataFrame'>\n",
      "RangeIndex: 4760 entries, 0 to 4759\n",
      "Data columns (total 21 columns):\n",
      " #   Column                    Non-Null Count  Dtype  \n",
      "---  ------                    --------------  -----  \n",
      " 0   Movie_ID                  4760 non-null   int64  \n",
      " 1   Movie_Title               4760 non-null   object \n",
      " 2   Movie_Genre               4760 non-null   object \n",
      " 3   Movie_Language            4760 non-null   object \n",
      " 4   Movie_Budget              4760 non-null   int64  \n",
      " 5   Movie_Popularity          4760 non-null   float64\n",
      " 6   Movie_Release_Date        4760 non-null   object \n",
      " 7   Movie_Revenue             4760 non-null   int64  \n",
      " 8   Movie_Runtime             4758 non-null   float64\n",
      " 9   Movie_Vote                4760 non-null   float64\n",
      " 10  Movie_Vote_Count          4760 non-null   int64  \n",
      " 11  Movie_Homepage            1699 non-null   object \n",
      " 12  Movie_Keywords            4373 non-null   object \n",
      " 13  Movie_Overview            4757 non-null   object \n",
      " 14  Movie_Production_House    4760 non-null   object \n",
      " 15  Movie_Production_Country  4760 non-null   object \n",
      " 16  Movie_Spoken_Language     4760 non-null   object \n",
      " 17  Movie_Tagline             3942 non-null   object \n",
      " 18  Movie_Cast                4733 non-null   object \n",
      " 19  Movie_Crew                4760 non-null   object \n",
      " 20  Movie_Director            4738 non-null   object \n",
      "dtypes: float64(3), int64(4), object(14)\n",
      "memory usage: 781.1+ KB\n"
     ]
    }
   ],
   "source": [
    "df.info()"
   ]
  },
  {
   "cell_type": "code",
   "execution_count": 7,
   "id": "2abab97c",
   "metadata": {
    "execution": {
     "iopub.execute_input": "2024-10-27T14:13:54.555790Z",
     "iopub.status.busy": "2024-10-27T14:13:54.555379Z",
     "iopub.status.idle": "2024-10-27T14:13:54.562218Z",
     "shell.execute_reply": "2024-10-27T14:13:54.561028Z"
    },
    "id": "j75MpSmQL_9x",
    "outputId": "c3255453-f379-4a11-c98a-b2174ba4da2f",
    "papermill": {
     "duration": 0.021474,
     "end_time": "2024-10-27T14:13:54.564457",
     "exception": false,
     "start_time": "2024-10-27T14:13:54.542983",
     "status": "completed"
    },
    "tags": []
   },
   "outputs": [
    {
     "data": {
      "text/plain": [
       "(4760, 21)"
      ]
     },
     "execution_count": 7,
     "metadata": {},
     "output_type": "execute_result"
    }
   ],
   "source": [
    "df.shape"
   ]
  },
  {
   "cell_type": "code",
   "execution_count": 8,
   "id": "619c88c4",
   "metadata": {
    "execution": {
     "iopub.execute_input": "2024-10-27T14:13:54.588349Z",
     "iopub.status.busy": "2024-10-27T14:13:54.587880Z",
     "iopub.status.idle": "2024-10-27T14:13:54.595867Z",
     "shell.execute_reply": "2024-10-27T14:13:54.594822Z"
    },
    "id": "NKu8XDNjMIot",
    "outputId": "66e381ed-733d-4638-b67a-fcf5d61c81a3",
    "papermill": {
     "duration": 0.02305,
     "end_time": "2024-10-27T14:13:54.598528",
     "exception": false,
     "start_time": "2024-10-27T14:13:54.575478",
     "status": "completed"
    },
    "tags": []
   },
   "outputs": [
    {
     "data": {
      "text/plain": [
       "Index(['Movie_ID', 'Movie_Title', 'Movie_Genre', 'Movie_Language',\n",
       "       'Movie_Budget', 'Movie_Popularity', 'Movie_Release_Date',\n",
       "       'Movie_Revenue', 'Movie_Runtime', 'Movie_Vote', 'Movie_Vote_Count',\n",
       "       'Movie_Homepage', 'Movie_Keywords', 'Movie_Overview',\n",
       "       'Movie_Production_House', 'Movie_Production_Country',\n",
       "       'Movie_Spoken_Language', 'Movie_Tagline', 'Movie_Cast', 'Movie_Crew',\n",
       "       'Movie_Director'],\n",
       "      dtype='object')"
      ]
     },
     "execution_count": 8,
     "metadata": {},
     "output_type": "execute_result"
    }
   ],
   "source": [
    "df.columns"
   ]
  },
  {
   "cell_type": "markdown",
   "id": "2458f9e8",
   "metadata": {
    "id": "it4xOywjM37s",
    "papermill": {
     "duration": 0.011102,
     "end_time": "2024-10-27T14:13:54.622504",
     "exception": false,
     "start_time": "2024-10-27T14:13:54.611402",
     "status": "completed"
    },
    "tags": []
   },
   "source": [
    "**Get Feature Selection**"
   ]
  },
  {
   "cell_type": "code",
   "execution_count": 9,
   "id": "a741c2a9",
   "metadata": {
    "execution": {
     "iopub.execute_input": "2024-10-27T14:13:54.649379Z",
     "iopub.status.busy": "2024-10-27T14:13:54.648480Z",
     "iopub.status.idle": "2024-10-27T14:13:54.668352Z",
     "shell.execute_reply": "2024-10-27T14:13:54.667264Z"
    },
    "id": "xebbVdpxNGFI",
    "papermill": {
     "duration": 0.036782,
     "end_time": "2024-10-27T14:13:54.670652",
     "exception": false,
     "start_time": "2024-10-27T14:13:54.633870",
     "status": "completed"
    },
    "tags": []
   },
   "outputs": [],
   "source": [
    "df_features=df[['Movie_Title', 'Movie_Genre','Movie_Keywords','Movie_Tagline','Movie_Cast','Movie_Director']].fillna('')"
   ]
  },
  {
   "cell_type": "markdown",
   "id": "41bedee1",
   "metadata": {
    "id": "Z-yK_5RtQLc7",
    "papermill": {
     "duration": 0.010969,
     "end_time": "2024-10-27T14:13:54.692885",
     "exception": false,
     "start_time": "2024-10-27T14:13:54.681916",
     "status": "completed"
    },
    "tags": []
   },
   "source": [
    "selected five existing features to recommend movies.It may vary from one project to another.Like one can add vote counts,budget,language etc."
   ]
  },
  {
   "cell_type": "code",
   "execution_count": 10,
   "id": "66e203b8",
   "metadata": {
    "execution": {
     "iopub.execute_input": "2024-10-27T14:13:54.717165Z",
     "iopub.status.busy": "2024-10-27T14:13:54.716696Z",
     "iopub.status.idle": "2024-10-27T14:13:54.724393Z",
     "shell.execute_reply": "2024-10-27T14:13:54.723320Z"
    },
    "id": "8yp-aX_tNb5u",
    "outputId": "102e2bce-d8f7-4701-981a-544091a3b81c",
    "papermill": {
     "duration": 0.02292,
     "end_time": "2024-10-27T14:13:54.727001",
     "exception": false,
     "start_time": "2024-10-27T14:13:54.704081",
     "status": "completed"
    },
    "tags": []
   },
   "outputs": [
    {
     "data": {
      "text/plain": [
       "(4760, 6)"
      ]
     },
     "execution_count": 10,
     "metadata": {},
     "output_type": "execute_result"
    }
   ],
   "source": [
    "df_features.shape"
   ]
  },
  {
   "cell_type": "code",
   "execution_count": 11,
   "id": "09b1a6bc",
   "metadata": {
    "execution": {
     "iopub.execute_input": "2024-10-27T14:13:54.752529Z",
     "iopub.status.busy": "2024-10-27T14:13:54.751999Z",
     "iopub.status.idle": "2024-10-27T14:13:54.773733Z",
     "shell.execute_reply": "2024-10-27T14:13:54.772524Z"
    },
    "id": "zqJFq8OhNhXC",
    "outputId": "3fab279b-07aa-44f8-b20f-d25a1431ab86",
    "papermill": {
     "duration": 0.038071,
     "end_time": "2024-10-27T14:13:54.776455",
     "exception": false,
     "start_time": "2024-10-27T14:13:54.738384",
     "status": "completed"
    },
    "tags": []
   },
   "outputs": [
    {
     "data": {
      "text/html": [
       "<div>\n",
       "<style scoped>\n",
       "    .dataframe tbody tr th:only-of-type {\n",
       "        vertical-align: middle;\n",
       "    }\n",
       "\n",
       "    .dataframe tbody tr th {\n",
       "        vertical-align: top;\n",
       "    }\n",
       "\n",
       "    .dataframe thead th {\n",
       "        text-align: right;\n",
       "    }\n",
       "</style>\n",
       "<table border=\"1\" class=\"dataframe\">\n",
       "  <thead>\n",
       "    <tr style=\"text-align: right;\">\n",
       "      <th></th>\n",
       "      <th>Movie_Title</th>\n",
       "      <th>Movie_Genre</th>\n",
       "      <th>Movie_Keywords</th>\n",
       "      <th>Movie_Tagline</th>\n",
       "      <th>Movie_Cast</th>\n",
       "      <th>Movie_Director</th>\n",
       "    </tr>\n",
       "  </thead>\n",
       "  <tbody>\n",
       "    <tr>\n",
       "      <th>0</th>\n",
       "      <td>Four Rooms</td>\n",
       "      <td>Crime Comedy</td>\n",
       "      <td>hotel new year's eve witch bet hotel room</td>\n",
       "      <td>Twelve outrageous guests. Four scandalous requ...</td>\n",
       "      <td>Tim Roth Antonio Banderas Jennifer Beals Madon...</td>\n",
       "      <td>Allison Anders</td>\n",
       "    </tr>\n",
       "    <tr>\n",
       "      <th>1</th>\n",
       "      <td>Star Wars</td>\n",
       "      <td>Adventure Action Science Fiction</td>\n",
       "      <td>android galaxy hermit death star lightsaber</td>\n",
       "      <td>A long time ago in a galaxy far, far away...</td>\n",
       "      <td>Mark Hamill Harrison Ford Carrie Fisher Peter ...</td>\n",
       "      <td>George Lucas</td>\n",
       "    </tr>\n",
       "    <tr>\n",
       "      <th>2</th>\n",
       "      <td>Finding Nemo</td>\n",
       "      <td>Animation Family</td>\n",
       "      <td>father son relationship harbor underwater fish...</td>\n",
       "      <td>There are 3.7 trillion fish in the ocean, they...</td>\n",
       "      <td>Albert Brooks Ellen DeGeneres Alexander Gould ...</td>\n",
       "      <td>Andrew Stanton</td>\n",
       "    </tr>\n",
       "    <tr>\n",
       "      <th>3</th>\n",
       "      <td>Forrest Gump</td>\n",
       "      <td>Comedy Drama Romance</td>\n",
       "      <td>vietnam veteran hippie mentally disabled runni...</td>\n",
       "      <td>The world will never be the same, once you've ...</td>\n",
       "      <td>Tom Hanks Robin Wright Gary Sinise Mykelti Wil...</td>\n",
       "      <td>Robert Zemeckis</td>\n",
       "    </tr>\n",
       "    <tr>\n",
       "      <th>4</th>\n",
       "      <td>American Beauty</td>\n",
       "      <td>Drama</td>\n",
       "      <td>male nudity female nudity adultery midlife cri...</td>\n",
       "      <td>Look closer.</td>\n",
       "      <td>Kevin Spacey Annette Bening Thora Birch Wes Be...</td>\n",
       "      <td>Sam Mendes</td>\n",
       "    </tr>\n",
       "    <tr>\n",
       "      <th>...</th>\n",
       "      <td>...</td>\n",
       "      <td>...</td>\n",
       "      <td>...</td>\n",
       "      <td>...</td>\n",
       "      <td>...</td>\n",
       "      <td>...</td>\n",
       "    </tr>\n",
       "    <tr>\n",
       "      <th>4755</th>\n",
       "      <td>Midnight Cabaret</td>\n",
       "      <td>Horror</td>\n",
       "      <td></td>\n",
       "      <td>The hot spot where Satan's waitin'.</td>\n",
       "      <td>Lisa Hart Carroll Michael Des Barres Paul Drak...</td>\n",
       "      <td>Pece Dingo</td>\n",
       "    </tr>\n",
       "    <tr>\n",
       "      <th>4756</th>\n",
       "      <td>Growing Up Smith</td>\n",
       "      <td>Comedy Family Drama</td>\n",
       "      <td></td>\n",
       "      <td>It’s better to stand out than to fit in.</td>\n",
       "      <td>Roni Akurati Brighton Sharbino Jason Lee Anjul...</td>\n",
       "      <td>Frank Lotito</td>\n",
       "    </tr>\n",
       "    <tr>\n",
       "      <th>4757</th>\n",
       "      <td>8 Days</td>\n",
       "      <td>Thriller Drama</td>\n",
       "      <td>christian film sex trafficking</td>\n",
       "      <td>She never knew it could happen to her...</td>\n",
       "      <td>Nicole Smolen Kim Baldwin Ariana Stephens Brys...</td>\n",
       "      <td>Jaco Booyens</td>\n",
       "    </tr>\n",
       "    <tr>\n",
       "      <th>4758</th>\n",
       "      <td>Running Forever</td>\n",
       "      <td>Family</td>\n",
       "      <td></td>\n",
       "      <td></td>\n",
       "      <td></td>\n",
       "      <td></td>\n",
       "    </tr>\n",
       "    <tr>\n",
       "      <th>4759</th>\n",
       "      <td>To Be Frank, Sinatra at 100</td>\n",
       "      <td>Documentary</td>\n",
       "      <td>music actors legendary perfomer classic hollyw...</td>\n",
       "      <td></td>\n",
       "      <td>Tony Oppedisano</td>\n",
       "      <td>Simon Napier-Bell</td>\n",
       "    </tr>\n",
       "  </tbody>\n",
       "</table>\n",
       "<p>4760 rows × 6 columns</p>\n",
       "</div>"
      ],
      "text/plain": [
       "                      Movie_Title                       Movie_Genre  \\\n",
       "0                      Four Rooms                      Crime Comedy   \n",
       "1                       Star Wars  Adventure Action Science Fiction   \n",
       "2                    Finding Nemo                  Animation Family   \n",
       "3                    Forrest Gump              Comedy Drama Romance   \n",
       "4                 American Beauty                             Drama   \n",
       "...                           ...                               ...   \n",
       "4755             Midnight Cabaret                            Horror   \n",
       "4756             Growing Up Smith               Comedy Family Drama   \n",
       "4757                       8 Days                    Thriller Drama   \n",
       "4758              Running Forever                            Family   \n",
       "4759  To Be Frank, Sinatra at 100                       Documentary   \n",
       "\n",
       "                                         Movie_Keywords  \\\n",
       "0             hotel new year's eve witch bet hotel room   \n",
       "1           android galaxy hermit death star lightsaber   \n",
       "2     father son relationship harbor underwater fish...   \n",
       "3     vietnam veteran hippie mentally disabled runni...   \n",
       "4     male nudity female nudity adultery midlife cri...   \n",
       "...                                                 ...   \n",
       "4755                                                      \n",
       "4756                                                      \n",
       "4757                     christian film sex trafficking   \n",
       "4758                                                      \n",
       "4759  music actors legendary perfomer classic hollyw...   \n",
       "\n",
       "                                          Movie_Tagline  \\\n",
       "0     Twelve outrageous guests. Four scandalous requ...   \n",
       "1          A long time ago in a galaxy far, far away...   \n",
       "2     There are 3.7 trillion fish in the ocean, they...   \n",
       "3     The world will never be the same, once you've ...   \n",
       "4                                          Look closer.   \n",
       "...                                                 ...   \n",
       "4755                The hot spot where Satan's waitin'.   \n",
       "4756           It’s better to stand out than to fit in.   \n",
       "4757           She never knew it could happen to her...   \n",
       "4758                                                      \n",
       "4759                                                      \n",
       "\n",
       "                                             Movie_Cast     Movie_Director  \n",
       "0     Tim Roth Antonio Banderas Jennifer Beals Madon...     Allison Anders  \n",
       "1     Mark Hamill Harrison Ford Carrie Fisher Peter ...       George Lucas  \n",
       "2     Albert Brooks Ellen DeGeneres Alexander Gould ...     Andrew Stanton  \n",
       "3     Tom Hanks Robin Wright Gary Sinise Mykelti Wil...    Robert Zemeckis  \n",
       "4     Kevin Spacey Annette Bening Thora Birch Wes Be...         Sam Mendes  \n",
       "...                                                 ...                ...  \n",
       "4755  Lisa Hart Carroll Michael Des Barres Paul Drak...         Pece Dingo  \n",
       "4756  Roni Akurati Brighton Sharbino Jason Lee Anjul...       Frank Lotito  \n",
       "4757  Nicole Smolen Kim Baldwin Ariana Stephens Brys...       Jaco Booyens  \n",
       "4758                                                                        \n",
       "4759                                    Tony Oppedisano  Simon Napier-Bell  \n",
       "\n",
       "[4760 rows x 6 columns]"
      ]
     },
     "execution_count": 11,
     "metadata": {},
     "output_type": "execute_result"
    }
   ],
   "source": [
    "df_features"
   ]
  },
  {
   "cell_type": "code",
   "execution_count": 12,
   "id": "f9e9e8a1",
   "metadata": {
    "execution": {
     "iopub.execute_input": "2024-10-27T14:13:54.802618Z",
     "iopub.status.busy": "2024-10-27T14:13:54.801432Z",
     "iopub.status.idle": "2024-10-27T14:13:54.816075Z",
     "shell.execute_reply": "2024-10-27T14:13:54.814987Z"
    },
    "id": "O9zxlN73NvUh",
    "papermill": {
     "duration": 0.030483,
     "end_time": "2024-10-27T14:13:54.818832",
     "exception": false,
     "start_time": "2024-10-27T14:13:54.788349",
     "status": "completed"
    },
    "tags": []
   },
   "outputs": [],
   "source": [
    "x=df_features['Movie_Title'] + df_features['Movie_Genre']+' '+df_features['Movie_Keywords']+' '+df_features['Movie_Tagline']+' '+df_features['Movie_Cast']+' '+df_features['Movie_Director']"
   ]
  },
  {
   "cell_type": "code",
   "execution_count": 13,
   "id": "a18ee99e",
   "metadata": {
    "execution": {
     "iopub.execute_input": "2024-10-27T14:13:54.847453Z",
     "iopub.status.busy": "2024-10-27T14:13:54.846600Z",
     "iopub.status.idle": "2024-10-27T14:13:54.853878Z",
     "shell.execute_reply": "2024-10-27T14:13:54.852709Z"
    },
    "id": "OEe6eH53OjqL",
    "outputId": "f3f98681-7e93-43a5-d5e1-84a84a69b55f",
    "papermill": {
     "duration": 0.022645,
     "end_time": "2024-10-27T14:13:54.856103",
     "exception": false,
     "start_time": "2024-10-27T14:13:54.833458",
     "status": "completed"
    },
    "tags": []
   },
   "outputs": [
    {
     "data": {
      "text/plain": [
       "(4760,)"
      ]
     },
     "execution_count": 13,
     "metadata": {},
     "output_type": "execute_result"
    }
   ],
   "source": [
    "x.shape"
   ]
  },
  {
   "cell_type": "markdown",
   "id": "3018a1db",
   "metadata": {
    "id": "o-JxyBfoOppH",
    "papermill": {
     "duration": 0.011501,
     "end_time": "2024-10-27T14:13:54.879515",
     "exception": false,
     "start_time": "2024-10-27T14:13:54.868014",
     "status": "completed"
    },
    "tags": []
   },
   "source": [
    "**Get Feature Text conversion to Tokens**"
   ]
  },
  {
   "cell_type": "code",
   "execution_count": 14,
   "id": "71f760e5",
   "metadata": {
    "execution": {
     "iopub.execute_input": "2024-10-27T14:13:54.905571Z",
     "iopub.status.busy": "2024-10-27T14:13:54.904702Z",
     "iopub.status.idle": "2024-10-27T14:13:56.155647Z",
     "shell.execute_reply": "2024-10-27T14:13:56.154637Z"
    },
    "id": "ASBwLDB0OyTj",
    "papermill": {
     "duration": 1.26706,
     "end_time": "2024-10-27T14:13:56.158465",
     "exception": false,
     "start_time": "2024-10-27T14:13:54.891405",
     "status": "completed"
    },
    "tags": []
   },
   "outputs": [
    {
     "name": "stderr",
     "output_type": "stream",
     "text": [
      "/opt/conda/lib/python3.10/site-packages/scipy/__init__.py:146: UserWarning: A NumPy version >=1.16.5 and <1.23.0 is required for this version of SciPy (detected version 1.23.5\n",
      "  warnings.warn(f\"A NumPy version >={np_minversion} and <{np_maxversion}\"\n"
     ]
    }
   ],
   "source": [
    "from sklearn.feature_extraction.text import TfidfVectorizer"
   ]
  },
  {
   "cell_type": "code",
   "execution_count": 15,
   "id": "2403cd36",
   "metadata": {
    "execution": {
     "iopub.execute_input": "2024-10-27T14:13:56.184142Z",
     "iopub.status.busy": "2024-10-27T14:13:56.183365Z",
     "iopub.status.idle": "2024-10-27T14:13:56.188495Z",
     "shell.execute_reply": "2024-10-27T14:13:56.187467Z"
    },
    "id": "658ObEmYO8jW",
    "papermill": {
     "duration": 0.020468,
     "end_time": "2024-10-27T14:13:56.190819",
     "exception": false,
     "start_time": "2024-10-27T14:13:56.170351",
     "status": "completed"
    },
    "tags": []
   },
   "outputs": [],
   "source": [
    "tfidf=TfidfVectorizer(stop_words=\"english\")"
   ]
  },
  {
   "cell_type": "code",
   "execution_count": 16,
   "id": "a6c33b57",
   "metadata": {
    "execution": {
     "iopub.execute_input": "2024-10-27T14:13:56.216549Z",
     "iopub.status.busy": "2024-10-27T14:13:56.216181Z",
     "iopub.status.idle": "2024-10-27T14:13:56.443134Z",
     "shell.execute_reply": "2024-10-27T14:13:56.442055Z"
    },
    "id": "Nl5FjD6gPHe7",
    "papermill": {
     "duration": 0.24315,
     "end_time": "2024-10-27T14:13:56.445986",
     "exception": false,
     "start_time": "2024-10-27T14:13:56.202836",
     "status": "completed"
    },
    "tags": []
   },
   "outputs": [],
   "source": [
    "x=tfidf.fit_transform(x)"
   ]
  },
  {
   "cell_type": "code",
   "execution_count": 17,
   "id": "8b9c86a2",
   "metadata": {
    "execution": {
     "iopub.execute_input": "2024-10-27T14:13:56.472359Z",
     "iopub.status.busy": "2024-10-27T14:13:56.471962Z",
     "iopub.status.idle": "2024-10-27T14:13:56.478969Z",
     "shell.execute_reply": "2024-10-27T14:13:56.477920Z"
    },
    "id": "njaWCUx_PPxa",
    "outputId": "789155b1-c947-493d-f55f-bd696dbb66a2",
    "papermill": {
     "duration": 0.022908,
     "end_time": "2024-10-27T14:13:56.481287",
     "exception": false,
     "start_time": "2024-10-27T14:13:56.458379",
     "status": "completed"
    },
    "tags": []
   },
   "outputs": [
    {
     "data": {
      "text/plain": [
       "(4760, 21677)"
      ]
     },
     "execution_count": 17,
     "metadata": {},
     "output_type": "execute_result"
    }
   ],
   "source": [
    "x.shape"
   ]
  },
  {
   "cell_type": "markdown",
   "id": "b1c465fb",
   "metadata": {
    "id": "YTx_fpzWPhw6",
    "papermill": {
     "duration": 0.012054,
     "end_time": "2024-10-27T14:13:56.505472",
     "exception": false,
     "start_time": "2024-10-27T14:13:56.493418",
     "status": "completed"
    },
    "tags": []
   },
   "source": [
    "**Get Similarity Score using Cosine Similarity**"
   ]
  },
  {
   "cell_type": "markdown",
   "id": "cea4637d",
   "metadata": {
    "id": "bA8CspjhPsMV",
    "papermill": {
     "duration": 0.011807,
     "end_time": "2024-10-27T14:13:56.529307",
     "exception": false,
     "start_time": "2024-10-27T14:13:56.517500",
     "status": "completed"
    },
    "tags": []
   },
   "source": [
    "cosine_similarity computes the L2-normalized dot product of vectors.Euclidean(L2)normalization projects the vectors onto the unit sphere,and their dot product is then the cosine of the angle between the points denoted by the vectors."
   ]
  },
  {
   "cell_type": "code",
   "execution_count": 18,
   "id": "f91fda6b",
   "metadata": {
    "execution": {
     "iopub.execute_input": "2024-10-27T14:13:56.555021Z",
     "iopub.status.busy": "2024-10-27T14:13:56.554600Z",
     "iopub.status.idle": "2024-10-27T14:13:56.656243Z",
     "shell.execute_reply": "2024-10-27T14:13:56.655196Z"
    },
    "id": "nQ6SsMwpQ2p_",
    "papermill": {
     "duration": 0.117517,
     "end_time": "2024-10-27T14:13:56.658872",
     "exception": false,
     "start_time": "2024-10-27T14:13:56.541355",
     "status": "completed"
    },
    "tags": []
   },
   "outputs": [],
   "source": [
    "from sklearn.metrics.pairwise import cosine_similarity"
   ]
  },
  {
   "cell_type": "code",
   "execution_count": 19,
   "id": "1acfe8c7",
   "metadata": {
    "execution": {
     "iopub.execute_input": "2024-10-27T14:13:56.684927Z",
     "iopub.status.busy": "2024-10-27T14:13:56.684358Z",
     "iopub.status.idle": "2024-10-27T14:13:57.225917Z",
     "shell.execute_reply": "2024-10-27T14:13:57.224367Z"
    },
    "id": "CNavv_3eRBfh",
    "papermill": {
     "duration": 0.557647,
     "end_time": "2024-10-27T14:13:57.228601",
     "exception": false,
     "start_time": "2024-10-27T14:13:56.670954",
     "status": "completed"
    },
    "tags": []
   },
   "outputs": [],
   "source": [
    "Similarity_Score=cosine_similarity(x)"
   ]
  },
  {
   "cell_type": "code",
   "execution_count": 20,
   "id": "7e8b8c39",
   "metadata": {
    "execution": {
     "iopub.execute_input": "2024-10-27T14:13:57.255791Z",
     "iopub.status.busy": "2024-10-27T14:13:57.254709Z",
     "iopub.status.idle": "2024-10-27T14:13:57.262726Z",
     "shell.execute_reply": "2024-10-27T14:13:57.261585Z"
    },
    "id": "9_RFJBGCRLDh",
    "outputId": "c91f9f20-021a-42ba-ef4f-7dac9f2f2641",
    "papermill": {
     "duration": 0.024139,
     "end_time": "2024-10-27T14:13:57.264981",
     "exception": false,
     "start_time": "2024-10-27T14:13:57.240842",
     "status": "completed"
    },
    "tags": []
   },
   "outputs": [
    {
     "data": {
      "text/plain": [
       "array([[1., 0., 0., ..., 0., 0., 0.],\n",
       "       [0., 1., 0., ..., 0., 0., 0.],\n",
       "       [0., 0., 1., ..., 0., 0., 0.],\n",
       "       ...,\n",
       "       [0., 0., 0., ..., 1., 0., 0.],\n",
       "       [0., 0., 0., ..., 0., 1., 0.],\n",
       "       [0., 0., 0., ..., 0., 0., 1.]])"
      ]
     },
     "execution_count": 20,
     "metadata": {},
     "output_type": "execute_result"
    }
   ],
   "source": [
    "Similarity_Score"
   ]
  },
  {
   "cell_type": "code",
   "execution_count": 21,
   "id": "4579d3df",
   "metadata": {
    "execution": {
     "iopub.execute_input": "2024-10-27T14:13:57.290810Z",
     "iopub.status.busy": "2024-10-27T14:13:57.290404Z",
     "iopub.status.idle": "2024-10-27T14:13:57.297207Z",
     "shell.execute_reply": "2024-10-27T14:13:57.295888Z"
    },
    "id": "uUOQ0Dx9ROzD",
    "outputId": "b247530e-9684-4d00-dfb4-982159ed08de",
    "papermill": {
     "duration": 0.022785,
     "end_time": "2024-10-27T14:13:57.299916",
     "exception": false,
     "start_time": "2024-10-27T14:13:57.277131",
     "status": "completed"
    },
    "tags": []
   },
   "outputs": [
    {
     "data": {
      "text/plain": [
       "(4760, 4760)"
      ]
     },
     "execution_count": 21,
     "metadata": {},
     "output_type": "execute_result"
    }
   ],
   "source": [
    "Similarity_Score.shape"
   ]
  },
  {
   "cell_type": "markdown",
   "id": "4ab5164f",
   "metadata": {
    "id": "wDWKiOgURX7d",
    "papermill": {
     "duration": 0.012336,
     "end_time": "2024-10-27T14:13:57.324725",
     "exception": false,
     "start_time": "2024-10-27T14:13:57.312389",
     "status": "completed"
    },
    "tags": []
   },
   "source": [
    "**Get Movie Name as Input from User and Validate fir Closest Spelling**"
   ]
  },
  {
   "cell_type": "code",
   "execution_count": 22,
   "id": "5ac97793",
   "metadata": {
    "execution": {
     "iopub.execute_input": "2024-10-27T14:13:57.350691Z",
     "iopub.status.busy": "2024-10-27T14:13:57.350311Z",
     "iopub.status.idle": "2024-10-27T14:13:57.749391Z",
     "shell.execute_reply": "2024-10-27T14:13:57.748015Z"
    },
    "id": "TAebMXhYRyE1",
    "outputId": "f096223c-d93b-4104-e3c4-39155f699efa",
    "papermill": {
     "duration": 0.414055,
     "end_time": "2024-10-27T14:13:57.751050",
     "exception": true,
     "start_time": "2024-10-27T14:13:57.336995",
     "status": "failed"
    },
    "tags": []
   },
   "outputs": [
    {
     "ename": "StdinNotImplementedError",
     "evalue": "raw_input was called, but this frontend does not support input requests.",
     "output_type": "error",
     "traceback": [
      "\u001b[0;31m---------------------------------------------------------------------------\u001b[0m",
      "\u001b[0;31mStdinNotImplementedError\u001b[0m                  Traceback (most recent call last)",
      "Cell \u001b[0;32mIn[22], line 1\u001b[0m\n\u001b[0;32m----> 1\u001b[0m Favourite_Movie_Name\u001b[38;5;241m=\u001b[39m\u001b[38;5;28;43minput\u001b[39;49m\u001b[43m(\u001b[49m\u001b[38;5;124;43m'\u001b[39;49m\u001b[38;5;124;43mEnter your favourite movie name :\u001b[39;49m\u001b[38;5;124;43m'\u001b[39;49m\u001b[43m)\u001b[49m\n",
      "File \u001b[0;32m/opt/conda/lib/python3.10/site-packages/ipykernel/kernelbase.py:1190\u001b[0m, in \u001b[0;36mKernel.raw_input\u001b[0;34m(self, prompt)\u001b[0m\n\u001b[1;32m   1188\u001b[0m \u001b[38;5;28;01mif\u001b[39;00m \u001b[38;5;129;01mnot\u001b[39;00m \u001b[38;5;28mself\u001b[39m\u001b[38;5;241m.\u001b[39m_allow_stdin:\n\u001b[1;32m   1189\u001b[0m     msg \u001b[38;5;241m=\u001b[39m \u001b[38;5;124m\"\u001b[39m\u001b[38;5;124mraw_input was called, but this frontend does not support input requests.\u001b[39m\u001b[38;5;124m\"\u001b[39m\n\u001b[0;32m-> 1190\u001b[0m     \u001b[38;5;28;01mraise\u001b[39;00m StdinNotImplementedError(msg)\n\u001b[1;32m   1191\u001b[0m \u001b[38;5;28;01mreturn\u001b[39;00m \u001b[38;5;28mself\u001b[39m\u001b[38;5;241m.\u001b[39m_input_request(\n\u001b[1;32m   1192\u001b[0m     \u001b[38;5;28mstr\u001b[39m(prompt),\n\u001b[1;32m   1193\u001b[0m     \u001b[38;5;28mself\u001b[39m\u001b[38;5;241m.\u001b[39m_parent_ident[\u001b[38;5;124m\"\u001b[39m\u001b[38;5;124mshell\u001b[39m\u001b[38;5;124m\"\u001b[39m],\n\u001b[1;32m   1194\u001b[0m     \u001b[38;5;28mself\u001b[39m\u001b[38;5;241m.\u001b[39mget_parent(\u001b[38;5;124m\"\u001b[39m\u001b[38;5;124mshell\u001b[39m\u001b[38;5;124m\"\u001b[39m),\n\u001b[1;32m   1195\u001b[0m     password\u001b[38;5;241m=\u001b[39m\u001b[38;5;28;01mFalse\u001b[39;00m,\n\u001b[1;32m   1196\u001b[0m )\n",
      "\u001b[0;31mStdinNotImplementedError\u001b[0m: raw_input was called, but this frontend does not support input requests."
     ]
    }
   ],
   "source": [
    "Favourite_Movie_Name=input('Enter your favourite movie name :')"
   ]
  },
  {
   "cell_type": "code",
   "execution_count": null,
   "id": "9d230dc4",
   "metadata": {
    "execution": {
     "iopub.execute_input": "2024-10-27T13:41:23.525182Z",
     "iopub.status.busy": "2024-10-27T13:41:23.524697Z",
     "iopub.status.idle": "2024-10-27T13:41:23.532338Z",
     "shell.execute_reply": "2024-10-27T13:41:23.530303Z",
     "shell.execute_reply.started": "2024-10-27T13:41:23.525133Z"
    },
    "id": "NOqVYhpDR8BB",
    "papermill": {
     "duration": null,
     "end_time": null,
     "exception": null,
     "start_time": null,
     "status": "pending"
    },
    "tags": []
   },
   "outputs": [],
   "source": [
    "All_Movies_Title_List=df['Movie_Title'].tolist()"
   ]
  },
  {
   "cell_type": "code",
   "execution_count": null,
   "id": "a6bd146a",
   "metadata": {
    "execution": {
     "iopub.execute_input": "2024-10-27T13:41:23.535478Z",
     "iopub.status.busy": "2024-10-27T13:41:23.535032Z",
     "iopub.status.idle": "2024-10-27T13:41:23.553589Z",
     "shell.execute_reply": "2024-10-27T13:41:23.552202Z",
     "shell.execute_reply.started": "2024-10-27T13:41:23.535432Z"
    },
    "id": "G_eLO8vZSJqC",
    "papermill": {
     "duration": null,
     "end_time": null,
     "exception": null,
     "start_time": null,
     "status": "pending"
    },
    "tags": []
   },
   "outputs": [],
   "source": [
    "import difflib"
   ]
  },
  {
   "cell_type": "code",
   "execution_count": null,
   "id": "b2262885",
   "metadata": {
    "execution": {
     "iopub.execute_input": "2024-10-27T13:41:23.556336Z",
     "iopub.status.busy": "2024-10-27T13:41:23.555658Z",
     "iopub.status.idle": "2024-10-27T13:41:23.598149Z",
     "shell.execute_reply": "2024-10-27T13:41:23.596692Z",
     "shell.execute_reply.started": "2024-10-27T13:41:23.556283Z"
    },
    "id": "9OMb6c8QSM-I",
    "outputId": "33cfc9ce-393a-491d-87e2-f0a53c8536a6",
    "papermill": {
     "duration": null,
     "end_time": null,
     "exception": null,
     "start_time": null,
     "status": "pending"
    },
    "tags": []
   },
   "outputs": [],
   "source": [
    "Movie_Recommendation=difflib.get_close_matches(Favourite_Movie_Name,All_Movies_Title_List)\n",
    "print(Movie_Recommendation)"
   ]
  },
  {
   "cell_type": "code",
   "execution_count": null,
   "id": "fb33fd15",
   "metadata": {
    "execution": {
     "iopub.execute_input": "2024-10-27T13:41:23.600208Z",
     "iopub.status.busy": "2024-10-27T13:41:23.599754Z",
     "iopub.status.idle": "2024-10-27T13:41:23.610015Z",
     "shell.execute_reply": "2024-10-27T13:41:23.607477Z",
     "shell.execute_reply.started": "2024-10-27T13:41:23.600171Z"
    },
    "id": "n3P1b878SkQM",
    "outputId": "12c4193a-5054-4196-9684-ccb2bd1147a7",
    "papermill": {
     "duration": null,
     "end_time": null,
     "exception": null,
     "start_time": null,
     "status": "pending"
    },
    "tags": []
   },
   "outputs": [],
   "source": [
    "Close_Match=Movie_Recommendation[0]\n",
    "print(Close_Match)"
   ]
  },
  {
   "cell_type": "code",
   "execution_count": null,
   "id": "d78b0361",
   "metadata": {
    "execution": {
     "iopub.execute_input": "2024-10-27T13:41:23.612253Z",
     "iopub.status.busy": "2024-10-27T13:41:23.611741Z",
     "iopub.status.idle": "2024-10-27T13:41:23.632160Z",
     "shell.execute_reply": "2024-10-27T13:41:23.630081Z",
     "shell.execute_reply.started": "2024-10-27T13:41:23.612208Z"
    },
    "id": "jvzQYMSnTI7C",
    "outputId": "f6bad32d-2b96-4706-9916-9ce518dc4fb5",
    "papermill": {
     "duration": null,
     "end_time": null,
     "exception": null,
     "start_time": null,
     "status": "pending"
    },
    "tags": []
   },
   "outputs": [],
   "source": [
    "Index_of_Close_Match_Movie=df[df.Movie_Title==Close_Match]['Movie_ID'].values[0]\n",
    "print(Index_of_Close_Match_Movie)"
   ]
  },
  {
   "cell_type": "code",
   "execution_count": null,
   "id": "4d68d0d9",
   "metadata": {
    "execution": {
     "iopub.execute_input": "2024-10-27T13:41:23.634730Z",
     "iopub.status.busy": "2024-10-27T13:41:23.634214Z",
     "iopub.status.idle": "2024-10-27T13:41:23.653686Z",
     "shell.execute_reply": "2024-10-27T13:41:23.652014Z",
     "shell.execute_reply.started": "2024-10-27T13:41:23.634680Z"
    },
    "id": "riFA3CdkTij0",
    "outputId": "69fb1e4b-d9bc-45f4-c05d-2904d1849170",
    "papermill": {
     "duration": null,
     "end_time": null,
     "exception": null,
     "start_time": null,
     "status": "pending"
    },
    "tags": []
   },
   "outputs": [],
   "source": [
    "Recommendation_Score=list(enumerate(Similarity_Score[Index_of_Close_Match_Movie]))\n",
    "print()"
   ]
  },
  {
   "cell_type": "code",
   "execution_count": null,
   "id": "6f1a9e11",
   "metadata": {
    "execution": {
     "iopub.execute_input": "2024-10-27T13:41:23.655899Z",
     "iopub.status.busy": "2024-10-27T13:41:23.655297Z",
     "iopub.status.idle": "2024-10-27T13:41:23.676496Z",
     "shell.execute_reply": "2024-10-27T13:41:23.674404Z",
     "shell.execute_reply.started": "2024-10-27T13:41:23.655663Z"
    },
    "id": "oFTbvRdlT8Sp",
    "outputId": "6d336883-3150-47e9-892e-8963c650e233",
    "papermill": {
     "duration": null,
     "end_time": null,
     "exception": null,
     "start_time": null,
     "status": "pending"
    },
    "tags": []
   },
   "outputs": [],
   "source": [
    "len(Recommendation_Score)"
   ]
  },
  {
   "cell_type": "markdown",
   "id": "cbe73bec",
   "metadata": {
    "id": "7m5WTr7hUEP9",
    "papermill": {
     "duration": null,
     "end_time": null,
     "exception": null,
     "start_time": null,
     "status": "pending"
    },
    "tags": []
   },
   "source": [
    "**Get All Movies Sort Based on Recommendation Score wrt Favourite Movie**"
   ]
  },
  {
   "cell_type": "code",
   "execution_count": null,
   "id": "61f13038",
   "metadata": {
    "execution": {
     "iopub.execute_input": "2024-10-27T13:41:23.679490Z",
     "iopub.status.busy": "2024-10-27T13:41:23.678598Z",
     "iopub.status.idle": "2024-10-27T13:41:23.695468Z",
     "shell.execute_reply": "2024-10-27T13:41:23.693254Z",
     "shell.execute_reply.started": "2024-10-27T13:41:23.679437Z"
    },
    "id": "AHmzgv3hURUv",
    "outputId": "51dc3414-3a7d-4bdd-a19d-b200713baa9b",
    "papermill": {
     "duration": null,
     "end_time": null,
     "exception": null,
     "start_time": null,
     "status": "pending"
    },
    "tags": []
   },
   "outputs": [],
   "source": [
    "Sorted_Similar_movies=sorted(Recommendation_Score,key=lambda x:x[1],reverse=True)"
   ]
  },
  {
   "cell_type": "markdown",
   "id": "cfe30c2e",
   "metadata": {
    "id": "Tc_GSA6DVbJh",
    "papermill": {
     "duration": null,
     "end_time": null,
     "exception": null,
     "start_time": null,
     "status": "pending"
    },
    "tags": []
   },
   "source": [
    "**Top 10 Movie Recommendation System**"
   ]
  },
  {
   "cell_type": "code",
   "execution_count": null,
   "id": "a72900b5",
   "metadata": {
    "execution": {
     "iopub.execute_input": "2024-10-27T13:41:29.378962Z",
     "iopub.status.busy": "2024-10-27T13:41:29.378461Z",
     "iopub.status.idle": "2024-10-27T13:41:29.392539Z",
     "shell.execute_reply": "2024-10-27T13:41:29.391339Z",
     "shell.execute_reply.started": "2024-10-27T13:41:29.378915Z"
    },
    "papermill": {
     "duration": null,
     "end_time": null,
     "exception": null,
     "start_time": null,
     "status": "pending"
    },
    "tags": []
   },
   "outputs": [],
   "source": [
    "\n",
    "# Function to get movie recommendations\n",
    "def get_recommendations(movie_name, k=10):\n",
    "    # Get all movie titles\n",
    "    all_titles = df['Movie_Title'].tolist()\n",
    "    \n",
    "    # Find the closest match for the movie name\n",
    "    matches = difflib.get_close_matches(movie_name, all_titles)\n",
    "    if not matches:\n",
    "        print(\"Movie not found in dataset.\")\n",
    "        return []\n",
    "    \n",
    "    # Get the index of the matched movie\n",
    "    closest_match = matches[0]\n",
    "    movie_index = df[df['Movie_Title'] == closest_match].index[0]\n",
    "    \n",
    "    # Get similarity scores and sort them\n",
    "    similarity_scores = list(enumerate(Similarity_Score[movie_index]))\n",
    "    similarity_scores = sorted(similarity_scores, key=lambda x: x[1], reverse=True)\n",
    "    \n",
    "    # Fetch the top K similar movies\n",
    "    recommended_movies = [df['Movie_Title'].iloc[i[0]] for i in similarity_scores[1:k+1]]\n",
    "    return recommended_movies, movie_index\n",
    "\n",
    "# Precision@K\n",
    "def precision_at_k(recommended_movies, relevant_movies, k):\n",
    "    relevant_recs = [movie for movie in recommended_movies if movie in relevant_movies]\n",
    "    return len(relevant_recs) / k\n",
    "\n",
    "# Recall@K\n",
    "def recall_at_k(recommended_movies, relevant_movies, k):\n",
    "    relevant_recs = [movie for movie in recommended_movies if movie in relevant_movies]\n",
    "    return len(relevant_recs) / len(relevant_movies) if relevant_movies else 0\n",
    "\n",
    "# Intra-List Similarity (ILS)\n",
    "def intra_list_similarity(recommended_movies, similarity_matrix):\n",
    "    indices = [df[df['Movie_Title'] == movie].index[0] for movie in recommended_movies]\n",
    "    pairwise_sims = [similarity_matrix[i][j] for i in indices for j in indices if i != j]\n",
    "    return np.mean(pairwise_sims) if pairwise_sims else 0"
   ]
  },
  {
   "cell_type": "code",
   "execution_count": null,
   "id": "79334f90",
   "metadata": {
    "execution": {
     "iopub.execute_input": "2024-10-27T14:00:03.338165Z",
     "iopub.status.busy": "2024-10-27T14:00:03.336615Z",
     "iopub.status.idle": "2024-10-27T14:00:03.347657Z",
     "shell.execute_reply": "2024-10-27T14:00:03.345874Z",
     "shell.execute_reply.started": "2024-10-27T14:00:03.338106Z"
    },
    "papermill": {
     "duration": null,
     "end_time": null,
     "exception": null,
     "start_time": null,
     "status": "pending"
    },
    "tags": []
   },
   "outputs": [],
   "source": [
    "# Define test cases\n",
    "test_cases = [\n",
    "    {'movie_name': 'Inception', 'relevant_movies': ['Day of the Dead', 'The Dark Knight Rises','Looper', 'Treasure Plane', 'Memento', 'G.I. Joe: The Rise of Cobra']},\n",
    "    {'movie_name': 'Toy Story', 'relevant_movies': ['Toy Story 2', 'Toy Story 3', 'Cars 2', 'Small Soldiers', 'Monsters Inc', 'The Incredibles', 'A Charlie Brown Christmas', 'Evan Almighty']},\n",
    "    {'movie_name': 'Titanic', 'relevant_movies': ['Romeo + Juliet', 'The Day the Earth Stood Still', 'The Great Gatsby', 'Moulin Rouge', 'Cheri', 'Little Black Book']},\n",
    "    {'movie_name': 'The Simpsons Movie', 'relevant_movies': ['The Smurfs 2', 'The Smurfs', 'Evan Almighty', 'Rugarts Go Wild', 'The Matrix', 'Aliens', 'Shrek']},\n",
    "    {'movie_name': 'For Your Eyes Only', 'relevant_movies': ['Live and Let Die', 'The Man with the Golden Gun', 'Tomorrow Never Dies', 'You Live Only Twice', 'Dr. No', 'From Russia With Love']},\n",
    "    {'movie_name': 'The Avengers', 'relevant_movies': ['Avengers: Age of Ultron', 'Iron Man', 'Iron Man 2', 'Captain America: The First Avenger', 'Captain America: The Winter Soldier', 'The Incredible Hulk', 'X-Men']},\n",
    "    {'movie_name': 'The Hills Have Eyes', 'relevant_movies': ['The Hills Have Eyes 2', 'Mirrors', 'World War Z', 'Remember Me']},\n",
    "    {'movie_name': 'The Angry Birds Movie', 'relevant_movies': ['The Inredibles', 'Pixels', 'Alvin and the Chipmunks: The Road Chip', ' Hotel Transylvania', 'Kung Fu Panda']},\n",
    "    {'movie_name': 'Penguins of Madagascar', 'relevant_movies': ['Madagascar', 'Madagascar: Escape 2 Africa', \"Madagascar 3: Europe's Most Wanted\", 'Happy Feet Two', 'Happy Feet', 'Megamind', 'Minions']}\n",
    "]"
   ]
  },
  {
   "cell_type": "code",
   "execution_count": null,
   "id": "6c6aec1f",
   "metadata": {
    "execution": {
     "iopub.execute_input": "2024-10-27T14:00:06.136117Z",
     "iopub.status.busy": "2024-10-27T14:00:06.135658Z",
     "iopub.status.idle": "2024-10-27T14:00:06.541061Z",
     "shell.execute_reply": "2024-10-27T14:00:06.539895Z",
     "shell.execute_reply.started": "2024-10-27T14:00:06.136064Z"
    },
    "papermill": {
     "duration": null,
     "end_time": null,
     "exception": null,
     "start_time": null,
     "status": "pending"
    },
    "tags": []
   },
   "outputs": [],
   "source": [
    "# Evaluate for each test case\n",
    "k = 10\n",
    "results = []\n",
    "for case in test_cases:\n",
    "    movie_name = case['movie_name']\n",
    "    relevant_movies = case['relevant_movies']\n",
    "    \n",
    "    # Get recommendations and calculate metrics\n",
    "    recommended_movies, movie_index = get_recommendations(movie_name, k)\n",
    "    precision_k = precision_at_k(recommended_movies, relevant_movies, k)\n",
    "    recall_k = recall_at_k(recommended_movies, relevant_movies, k)\n",
    "    ils = intra_list_similarity(recommended_movies, Similarity_Score)\n",
    "    \n",
    "    # Append results\n",
    "    results.append({\n",
    "        'movie_name': movie_name,\n",
    "        'precision_k': precision_k,\n",
    "        'recall_k': recall_k,\n",
    "        'ils': ils\n",
    "    })\n",
    "\n",
    "# Convert results to DataFrame for plotting\n",
    "df_results = pd.DataFrame(results)"
   ]
  },
  {
   "cell_type": "code",
   "execution_count": null,
   "id": "a43c634a",
   "metadata": {
    "execution": {
     "iopub.execute_input": "2024-10-27T14:00:08.161808Z",
     "iopub.status.busy": "2024-10-27T14:00:08.161402Z",
     "iopub.status.idle": "2024-10-27T14:00:08.179265Z",
     "shell.execute_reply": "2024-10-27T14:00:08.177597Z",
     "shell.execute_reply.started": "2024-10-27T14:00:08.161774Z"
    },
    "papermill": {
     "duration": null,
     "end_time": null,
     "exception": null,
     "start_time": null,
     "status": "pending"
    },
    "tags": []
   },
   "outputs": [],
   "source": [
    "df_results"
   ]
  },
  {
   "cell_type": "code",
   "execution_count": null,
   "id": "6bea5760",
   "metadata": {
    "execution": {
     "iopub.execute_input": "2024-10-27T14:00:14.480472Z",
     "iopub.status.busy": "2024-10-27T14:00:14.480071Z",
     "iopub.status.idle": "2024-10-27T14:00:14.883962Z",
     "shell.execute_reply": "2024-10-27T14:00:14.882728Z",
     "shell.execute_reply.started": "2024-10-27T14:00:14.480435Z"
    },
    "papermill": {
     "duration": null,
     "end_time": null,
     "exception": null,
     "start_time": null,
     "status": "pending"
    },
    "tags": []
   },
   "outputs": [],
   "source": [
    "import matplotlib.pyplot as plt\n",
    "import seaborn as sns"
   ]
  },
  {
   "cell_type": "code",
   "execution_count": null,
   "id": "de36ca2d",
   "metadata": {
    "execution": {
     "iopub.execute_input": "2024-10-27T14:06:59.913895Z",
     "iopub.status.busy": "2024-10-27T14:06:59.913353Z",
     "iopub.status.idle": "2024-10-27T14:07:00.310053Z",
     "shell.execute_reply": "2024-10-27T14:07:00.308076Z",
     "shell.execute_reply.started": "2024-10-27T14:06:59.913852Z"
    },
    "papermill": {
     "duration": null,
     "end_time": null,
     "exception": null,
     "start_time": null,
     "status": "pending"
    },
    "tags": []
   },
   "outputs": [],
   "source": [
    "# Plot 1: Precision@K and Recall@K Across Test Cases\n",
    "plt.figure(figsize=(10, 5))\n",
    "plt.plot(df_results['movie_name'], df_results['precision_k'], marker='o', label='Precision@K')\n",
    "plt.plot(df_results['movie_name'], df_results['recall_k'], marker='s', label='Recall@K')\n",
    "plt.title('Precision@K and Recall@K Across Test Cases')\n",
    "plt.xlabel('Movie Name')\n",
    "plt.ylabel('Score')\n",
    "plt.legend()\n",
    "plt.xticks(rotation=45)\n",
    "plt.grid(True)\n",
    "plt.show()"
   ]
  },
  {
   "cell_type": "code",
   "execution_count": null,
   "id": "c6e7a68a",
   "metadata": {
    "execution": {
     "iopub.execute_input": "2024-10-27T14:00:28.158598Z",
     "iopub.status.busy": "2024-10-27T14:00:28.158158Z",
     "iopub.status.idle": "2024-10-27T14:00:28.474186Z",
     "shell.execute_reply": "2024-10-27T14:00:28.472647Z",
     "shell.execute_reply.started": "2024-10-27T14:00:28.158564Z"
    },
    "papermill": {
     "duration": null,
     "end_time": null,
     "exception": null,
     "start_time": null,
     "status": "pending"
    },
    "tags": []
   },
   "outputs": [],
   "source": [
    "# Plot 2: Intra-List Similarity (ILS) Across Test Cases\n",
    "plt.figure(figsize=(10, 5))\n",
    "sns.barplot(x='movie_name', y='ils', data=df_results, color=\"skyblue\")\n",
    "plt.title('Intra-List Similarity (ILS) Across Test Cases')\n",
    "plt.xlabel('Movie Name')\n",
    "plt.ylabel('ILS Score')\n",
    "plt.xticks(rotation=45)\n",
    "plt.show()"
   ]
  },
  {
   "cell_type": "code",
   "execution_count": null,
   "id": "bb05a56b",
   "metadata": {
    "execution": {
     "iopub.execute_input": "2024-10-27T14:02:32.072376Z",
     "iopub.status.busy": "2024-10-27T14:02:32.071947Z",
     "iopub.status.idle": "2024-10-27T14:02:32.550954Z",
     "shell.execute_reply": "2024-10-27T14:02:32.549682Z",
     "shell.execute_reply.started": "2024-10-27T14:02:32.072344Z"
    },
    "papermill": {
     "duration": null,
     "end_time": null,
     "exception": null,
     "start_time": null,
     "status": "pending"
    },
    "tags": []
   },
   "outputs": [],
   "source": [
    "# Plot 3: Precision and Recall vs. K (Varying K)\n",
    "k_values = [5, 10, 15, 20]\n",
    "precision_vals = []\n",
    "recall_vals = []\n",
    "\n",
    "# Sample evaluation with increasing K for the first test case\n",
    "for k_val in k_values:\n",
    "    recommended_movies, _ = get_recommendations(test_cases[5]['movie_name'], k_val)\n",
    "    precision_vals.append(precision_at_k(recommended_movies, test_cases[5]['relevant_movies'], k_val))\n",
    "    recall_vals.append(recall_at_k(recommended_movies, test_cases[5]['relevant_movies'], k_val))\n",
    "print(precision_vals)\n",
    "print(recall_vals)\n",
    "plt.figure(figsize=(10, 5))\n",
    "plt.plot(k_values, precision_vals, marker='o', label='Precision@K')\n",
    "plt.plot(k_values, recall_vals, marker='s', label='Recall@K')\n",
    "plt.title('Precision and Recall vs. K')\n",
    "plt.xlabel('K (Number of Recommendations)')\n",
    "plt.ylabel('Score')\n",
    "plt.legend()\n",
    "plt.grid(True)\n",
    "plt.show()"
   ]
  }
 ],
 "metadata": {
  "kaggle": {
   "accelerator": "none",
   "dataSources": [
    {
     "datasetId": 5174312,
     "sourceId": 8640006,
     "sourceType": "datasetVersion"
    }
   ],
   "dockerImageVersionId": 30527,
   "isGpuEnabled": false,
   "isInternetEnabled": false,
   "language": "python",
   "sourceType": "notebook"
  },
  "kernelspec": {
   "display_name": "Python 3",
   "language": "python",
   "name": "python3"
  },
  "language_info": {
   "codemirror_mode": {
    "name": "ipython",
    "version": 3
   },
   "file_extension": ".py",
   "mimetype": "text/x-python",
   "name": "python",
   "nbconvert_exporter": "python",
   "pygments_lexer": "ipython3",
   "version": "3.10.12"
  },
  "papermill": {
   "default_parameters": {},
   "duration": 16.266297,
   "end_time": "2024-10-27T14:13:58.787653",
   "environment_variables": {},
   "exception": true,
   "input_path": "__notebook__.ipynb",
   "output_path": "__notebook__.ipynb",
   "parameters": {},
   "start_time": "2024-10-27T14:13:42.521356",
   "version": "2.4.0"
  }
 },
 "nbformat": 4,
 "nbformat_minor": 5
}
